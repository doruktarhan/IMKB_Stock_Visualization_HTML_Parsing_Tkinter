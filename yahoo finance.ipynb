{
 "cells": [
  {
   "cell_type": "code",
   "execution_count": null,
   "id": "d047b395",
   "metadata": {},
   "outputs": [],
   "source": [
    "!pip install yfinance"
   ]
  },
  {
   "cell_type": "code",
   "execution_count": 1,
   "id": "e4c510e3",
   "metadata": {},
   "outputs": [],
   "source": [
    "import yfinance as yf"
   ]
  },
  {
   "cell_type": "code",
   "execution_count": 2,
   "id": "4ea63ddc",
   "metadata": {},
   "outputs": [],
   "source": [
    "from datetime import datetime"
   ]
  },
  {
   "cell_type": "code",
   "execution_count": 3,
   "id": "11733180",
   "metadata": {},
   "outputs": [],
   "source": [
    "now= datetime.now()\n",
    "date=now.day\n",
    "month=now.month\n",
    "year=now.year\n",
    "hour=now.hour\n",
    "minute=now.minute\n",
    "second=now.second"
   ]
  },
  {
   "cell_type": "code",
   "execution_count": 4,
   "id": "212d7baf",
   "metadata": {},
   "outputs": [],
   "source": [
    "start=f'{int(year)-1}-{month}-{date}'\n",
    "end=f'{year}-{month}-{date}'"
   ]
  },
  {
   "cell_type": "code",
   "execution_count": 5,
   "id": "26ac3a4e",
   "metadata": {},
   "outputs": [
    {
     "data": {
      "text/plain": [
       "'2022-7-24'"
      ]
     },
     "execution_count": 5,
     "metadata": {},
     "output_type": "execute_result"
    }
   ],
   "source": [
    "start"
   ]
  },
  {
   "cell_type": "code",
   "execution_count": 6,
   "id": "d8dc5bb0",
   "metadata": {},
   "outputs": [
    {
     "data": {
      "text/plain": [
       "'2023-7-24'"
      ]
     },
     "execution_count": 6,
     "metadata": {},
     "output_type": "execute_result"
    }
   ],
   "source": [
    "end"
   ]
  },
  {
   "cell_type": "code",
   "execution_count": 7,
   "id": "3faf37f3",
   "metadata": {},
   "outputs": [
    {
     "name": "stdout",
     "output_type": "stream",
     "text": [
      "[*********************100%***********************]  1 of 1 completed\n"
     ]
    },
    {
     "data": {
      "text/html": [
       "<div>\n",
       "<style scoped>\n",
       "    .dataframe tbody tr th:only-of-type {\n",
       "        vertical-align: middle;\n",
       "    }\n",
       "\n",
       "    .dataframe tbody tr th {\n",
       "        vertical-align: top;\n",
       "    }\n",
       "\n",
       "    .dataframe thead th {\n",
       "        text-align: right;\n",
       "    }\n",
       "</style>\n",
       "<table border=\"1\" class=\"dataframe\">\n",
       "  <thead>\n",
       "    <tr style=\"text-align: right;\">\n",
       "      <th></th>\n",
       "      <th>Open</th>\n",
       "      <th>High</th>\n",
       "      <th>Low</th>\n",
       "      <th>Close</th>\n",
       "      <th>Adj Close</th>\n",
       "      <th>Volume</th>\n",
       "    </tr>\n",
       "    <tr>\n",
       "      <th>Date</th>\n",
       "      <th></th>\n",
       "      <th></th>\n",
       "      <th></th>\n",
       "      <th></th>\n",
       "      <th></th>\n",
       "      <th></th>\n",
       "    </tr>\n",
       "  </thead>\n",
       "  <tbody>\n",
       "    <tr>\n",
       "      <th>2022-07-25</th>\n",
       "      <td>17.900000</td>\n",
       "      <td>17.930000</td>\n",
       "      <td>17.760000</td>\n",
       "      <td>17.780001</td>\n",
       "      <td>17.208286</td>\n",
       "      <td>21569885</td>\n",
       "    </tr>\n",
       "    <tr>\n",
       "      <th>2022-07-26</th>\n",
       "      <td>17.340000</td>\n",
       "      <td>17.379999</td>\n",
       "      <td>17.090000</td>\n",
       "      <td>17.160000</td>\n",
       "      <td>17.160000</td>\n",
       "      <td>12666598</td>\n",
       "    </tr>\n",
       "    <tr>\n",
       "      <th>2022-07-27</th>\n",
       "      <td>17.219999</td>\n",
       "      <td>17.219999</td>\n",
       "      <td>16.930000</td>\n",
       "      <td>16.980000</td>\n",
       "      <td>16.980000</td>\n",
       "      <td>11845946</td>\n",
       "    </tr>\n",
       "    <tr>\n",
       "      <th>2022-07-28</th>\n",
       "      <td>17.120001</td>\n",
       "      <td>17.150000</td>\n",
       "      <td>16.730000</td>\n",
       "      <td>16.740000</td>\n",
       "      <td>16.740000</td>\n",
       "      <td>15698379</td>\n",
       "    </tr>\n",
       "    <tr>\n",
       "      <th>2022-07-29</th>\n",
       "      <td>16.790001</td>\n",
       "      <td>16.980000</td>\n",
       "      <td>16.620001</td>\n",
       "      <td>16.920000</td>\n",
       "      <td>16.920000</td>\n",
       "      <td>15563538</td>\n",
       "    </tr>\n",
       "    <tr>\n",
       "      <th>...</th>\n",
       "      <td>...</td>\n",
       "      <td>...</td>\n",
       "      <td>...</td>\n",
       "      <td>...</td>\n",
       "      <td>...</td>\n",
       "      <td>...</td>\n",
       "    </tr>\n",
       "    <tr>\n",
       "      <th>2023-07-17</th>\n",
       "      <td>43.400002</td>\n",
       "      <td>44.419998</td>\n",
       "      <td>43.259998</td>\n",
       "      <td>44.419998</td>\n",
       "      <td>44.419998</td>\n",
       "      <td>55516747</td>\n",
       "    </tr>\n",
       "    <tr>\n",
       "      <th>2023-07-18</th>\n",
       "      <td>44.560001</td>\n",
       "      <td>48.220001</td>\n",
       "      <td>43.939999</td>\n",
       "      <td>44.759998</td>\n",
       "      <td>44.759998</td>\n",
       "      <td>136557691</td>\n",
       "    </tr>\n",
       "    <tr>\n",
       "      <th>2023-07-19</th>\n",
       "      <td>45.000000</td>\n",
       "      <td>47.900002</td>\n",
       "      <td>44.820000</td>\n",
       "      <td>47.119999</td>\n",
       "      <td>47.119999</td>\n",
       "      <td>112966193</td>\n",
       "    </tr>\n",
       "    <tr>\n",
       "      <th>2023-07-20</th>\n",
       "      <td>47.400002</td>\n",
       "      <td>47.639999</td>\n",
       "      <td>45.779999</td>\n",
       "      <td>46.580002</td>\n",
       "      <td>46.580002</td>\n",
       "      <td>67236906</td>\n",
       "    </tr>\n",
       "    <tr>\n",
       "      <th>2023-07-21</th>\n",
       "      <td>46.580002</td>\n",
       "      <td>48.520000</td>\n",
       "      <td>46.480000</td>\n",
       "      <td>47.000000</td>\n",
       "      <td>47.000000</td>\n",
       "      <td>59596654</td>\n",
       "    </tr>\n",
       "  </tbody>\n",
       "</table>\n",
       "<p>249 rows × 6 columns</p>\n",
       "</div>"
      ],
      "text/plain": [
       "                 Open       High        Low      Close  Adj Close     Volume\n",
       "Date                                                                        \n",
       "2022-07-25  17.900000  17.930000  17.760000  17.780001  17.208286   21569885\n",
       "2022-07-26  17.340000  17.379999  17.090000  17.160000  17.160000   12666598\n",
       "2022-07-27  17.219999  17.219999  16.930000  16.980000  16.980000   11845946\n",
       "2022-07-28  17.120001  17.150000  16.730000  16.740000  16.740000   15698379\n",
       "2022-07-29  16.790001  16.980000  16.620001  16.920000  16.920000   15563538\n",
       "...               ...        ...        ...        ...        ...        ...\n",
       "2023-07-17  43.400002  44.419998  43.259998  44.419998  44.419998   55516747\n",
       "2023-07-18  44.560001  48.220001  43.939999  44.759998  44.759998  136557691\n",
       "2023-07-19  45.000000  47.900002  44.820000  47.119999  47.119999  112966193\n",
       "2023-07-20  47.400002  47.639999  45.779999  46.580002  46.580002   67236906\n",
       "2023-07-21  46.580002  48.520000  46.480000  47.000000  47.000000   59596654\n",
       "\n",
       "[249 rows x 6 columns]"
      ]
     },
     "execution_count": 7,
     "metadata": {},
     "output_type": "execute_result"
    }
   ],
   "source": [
    "hisse='TCELL'\n",
    "df= yf.download(f'{hisse}.IS',start,end)\n",
    "df"
   ]
  },
  {
   "cell_type": "code",
   "execution_count": null,
   "id": "0c389de9",
   "metadata": {},
   "outputs": [],
   "source": [
    "import yfinance as yf\n",
    "from datetime import datetime\n",
    "\n",
    "now= datetime.now()\n",
    "date=now.day\n",
    "month=now.month\n",
    "year=now.year\n",
    "hour=now.hour\n",
    "minute=now.minute\n",
    "second=now.second\n",
    "\n",
    "\n",
    "start=f'{int(year)-1}-{month}-{date}'\n",
    "end=f'{year}-{month}-{date}'\n",
    "\n",
    "\n",
    "hisse='TCELL'\n",
    "df= yf.download(f'{hisse}.IS',start,end)\n",
    "df"
   ]
  },
  {
   "cell_type": "code",
   "execution_count": null,
   "id": "5c9b42d1",
   "metadata": {},
   "outputs": [],
   "source": []
  },
  {
   "cell_type": "code",
   "execution_count": null,
   "id": "37d0f873",
   "metadata": {},
   "outputs": [],
   "source": []
  },
  {
   "cell_type": "code",
   "execution_count": null,
   "id": "348891a3",
   "metadata": {},
   "outputs": [],
   "source": []
  }
 ],
 "metadata": {
  "kernelspec": {
   "display_name": "Python 3 (ipykernel)",
   "language": "python",
   "name": "python3"
  },
  "language_info": {
   "codemirror_mode": {
    "name": "ipython",
    "version": 3
   },
   "file_extension": ".py",
   "mimetype": "text/x-python",
   "name": "python",
   "nbconvert_exporter": "python",
   "pygments_lexer": "ipython3",
   "version": "3.9.13"
  }
 },
 "nbformat": 4,
 "nbformat_minor": 5
}
